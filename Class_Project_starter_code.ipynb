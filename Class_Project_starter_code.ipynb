{
 "cells": [
  {
   "cell_type": "markdown",
   "id": "d8513662-ae0c-4060-a15e-bc296b5a0baa",
   "metadata": {},
   "source": [
    "# Before you start\n",
    "\n",
    "Before you review this notebook, please spend an hour or two on your own familiarizing yourself with the data, thinking about the problem, and the approach you would like to take.  If you just jump into the starter code, you will miss out on your own creative thinking, and limit yourself to what you see here.   \n",
    "\n",
    "***\n",
    "\n",
    "**First, some library imports**"
   ]
  },
  {
   "cell_type": "code",
   "execution_count": 1,
   "id": "d175f45d-6ec6-48bd-b700-a780c7afb125",
   "metadata": {},
   "outputs": [],
   "source": [
    "import numpy as np\n",
    "import pandas as pd\n",
    "import statsmodels.api as sm\n",
    "import matplotlib.pyplot as plt\n",
    "import seaborn as sns\n",
    "from imblearn.over_sampling import SMOTE \n",
    "from sklearn.metrics import confusion_matrix, accuracy_score, classification_report, plot_confusion_matrix, ConfusionMatrixDisplay\n"
   ]
  },
  {
   "cell_type": "markdown",
   "id": "8a200ffc-6940-4fa2-aa06-9d0817ed8f9a",
   "metadata": {},
   "source": [
    "# Complaints dataset from CFPB  \n",
    "## Load the data  \n",
    "First, we load the dataset.  We use the file in the `shared\\` folder."
   ]
  },
  {
   "cell_type": "code",
   "execution_count": 2,
   "id": "a36706fa-6e40-41fa-ba8f-63c1b19ca46f",
   "metadata": {},
   "outputs": [],
   "source": [
    "# To load the data directly from the CFPB website, use the below command.  Be aware you will get lots of data!\n",
    "# You will then need to filter it for just the 5 banks we are interested in analyzing.\n",
    "# complaints = pd.read_csv(r'https://files.consumerfinance.gov/ccdb/complaints.csv.zip')"
   ]
  },
  {
   "cell_type": "code",
   "execution_count": null,
   "id": "30a632e7-f99b-4643-b48b-73dcb98b3835",
   "metadata": {},
   "outputs": [],
   "source": [
    "# Load dataset from provided file.  Be sure to use the correct path.\n",
    "\n",
    "complaints = pd.read_csv('complaints_25Nov21.csv')\n",
    "\n",
    "# complaints = pd.read_csv('shared/complaints_25Nov21.csv')"
   ]
  },
  {
   "cell_type": "markdown",
   "id": "64b8f0b5-2840-4d4c-a738-d84fa3995d20",
   "metadata": {},
   "source": [
    "## Review the data\n",
    "The next few cells look at the data in a couple of different ways.  This does not cover graphing and visualization, but you should do that."
   ]
  },
  {
   "cell_type": "code",
   "execution_count": null,
   "id": "d52eac39-b49e-4f5d-ac5e-665af6ec96f2",
   "metadata": {},
   "outputs": [],
   "source": [
    "# How many rows and columns do we have?\n",
    "\n",
    "complaints.shape"
   ]
  },
  {
   "cell_type": "code",
   "execution_count": null,
   "id": "b402208b-911a-467d-8fcf-4216f4c85d63",
   "metadata": {},
   "outputs": [],
   "source": [
    "# What are the column names?\n",
    "\n",
    "complaints.columns"
   ]
  },
  {
   "cell_type": "code",
   "execution_count": null,
   "id": "3ac4b789-f628-47c3-9631-e95c2b882cf4",
   "metadata": {},
   "outputs": [],
   "source": [
    "# Let us look at which banks have the most number of complaints\n",
    "\n",
    "complaints['Company'].value_counts().sort_values(ascending=False)"
   ]
  },
  {
   "cell_type": "code",
   "execution_count": null,
   "id": "cc07bc26-a522-4b2e-96c3-602c715a5290",
   "metadata": {},
   "outputs": [],
   "source": [
    "# Because the data is already pre-filtered to the top-5 companies, we do not need to run the below commands.\n",
    "# But if you are using the file directly from the CFPB website, you will need to do this as we want to analyze\n",
    "# only the top-5 banks.\n",
    "\n",
    "# banks = ['BANK OF AMERICA, NATIONAL ASSOCIATION', 'WELLS FARGO & COMPANY','JPMORGAN CHASE & CO.', 'CITIBANK, N.A.' , 'U.S. BANCORP']\n",
    "# filtered = complaints[(complaints['Company'].isin(banks))]\n",
    "# filtered.to_csv(\"complaints_14Nov21.csv\", index=False)"
   ]
  },
  {
   "cell_type": "code",
   "execution_count": null,
   "id": "399f8fdf-694a-4d33-857d-23a14f1c5aaa",
   "metadata": {},
   "outputs": [],
   "source": []
  },
  {
   "cell_type": "code",
   "execution_count": null,
   "id": "53c09a2b-a0d4-451a-9ff5-a31992be8dee",
   "metadata": {},
   "outputs": [],
   "source": [
    "# Let us get a feel for the data\n",
    "\n",
    "complaints"
   ]
  },
  {
   "cell_type": "markdown",
   "id": "3e8fc291-4494-4041-a0c8-670c20b32424",
   "metadata": {},
   "source": [
    "## Predicting 'Consumer Disputed'\n",
    "\n",
    "We look at the distribution of how many people disputed the complaint's resolution versus how many did not.  "
   ]
  },
  {
   "cell_type": "code",
   "execution_count": null,
   "id": "cea0b0e2-e225-471a-b463-e47b29653531",
   "metadata": {},
   "outputs": [],
   "source": [
    "complaints['Consumer disputed?'].value_counts()"
   ]
  },
  {
   "cell_type": "code",
   "execution_count": null,
   "id": "f0e1963c-71e4-4fad-b0d7-97b763f1e682",
   "metadata": {},
   "outputs": [],
   "source": [
    "# Let us see how many total disputes are there\n",
    "\n",
    "complaints['Consumer disputed?'].value_counts().sum()"
   ]
  },
  {
   "cell_type": "markdown",
   "id": "c41bda9e-790e-424c-80ea-0e0b2ff74e96",
   "metadata": {},
   "source": [
    "**The above is 207,260 records.  Which is the same as the number of records in our dataset.  That means we do not have any `NaN` values.**"
   ]
  },
  {
   "cell_type": "code",
   "execution_count": null,
   "id": "d8a796f4-6a83-4e44-9c66-3ce5f9431831",
   "metadata": {},
   "outputs": [],
   "source": [
    "# Check for NaNs in the 'Consumer Disputed' column\n",
    "\n",
    "complaints['Consumer disputed?'].isna().sum()"
   ]
  },
  {
   "cell_type": "code",
   "execution_count": null,
   "id": "38fe6e33-5cf3-462f-8310-976f8a5c04bf",
   "metadata": {},
   "outputs": [],
   "source": [
    "# Next, for cleanliness we change the column type for 'Consumer Disputed' from string to category\n",
    "# We don't have to do this, but can't hurt just in case an algorithm we are trying needs this.\n",
    "\n",
    "complaints['Consumer disputed?'] = complaints['Consumer disputed?'].astype('category')"
   ]
  },
  {
   "cell_type": "markdown",
   "id": "1fd0e557-d04d-47d8-9479-8890eda82bf8",
   "metadata": {},
   "source": [
    "Now let us look at our split between disputed and not-disputed complaints."
   ]
  },
  {
   "cell_type": "code",
   "execution_count": null,
   "id": "a8c2ba72-9219-4693-a786-9712b3b46ddd",
   "metadata": {},
   "outputs": [],
   "source": [
    "complaints['Consumer disputed?'].value_counts()"
   ]
  },
  {
   "cell_type": "code",
   "execution_count": null,
   "id": "e4f8e9fb-108d-4d55-9dcb-ac2d0b3d52b8",
   "metadata": {},
   "outputs": [],
   "source": [
    "# same thing as a percentage...\n",
    "complaints['Consumer disputed?'].value_counts() / (complaints['Consumer disputed?'].value_counts().sum())"
   ]
  },
  {
   "cell_type": "markdown",
   "id": "b18ac0f0-28ec-43aa-86cd-12cfc8685952",
   "metadata": {},
   "source": [
    "So we have an imbalanced dataset as only about 12% is in the `Yes` class.  This means we should consider rebalancing the training dataset using a technique such as SMOTE.  But we will do that after doing the train-test split.  But first, we need to think about what in our data should be the predictor variables, ie, what should be included as a feature in `X`.\n",
    "\n",
    "## Deciding the feature set      \n",
    "To do that, let us look at the dataset again.  And refer to the data-dictionary in the Word document for the project.  "
   ]
  },
  {
   "cell_type": "markdown",
   "id": "04c63275-a863-4179-bdb4-10c0af8ed81b",
   "metadata": {},
   "source": [
    "|Field name  |Description  |Can it be a feature?  |\n",
    "|------------  |------------  |------------  |\n",
    "|Date received  |The date the CFPB received the complaint. For example, “05/25/2013.”  |Not a feature  |\n",
    "|Product  |The type of product the consumer identified in the complaint. For example, “Checking or savings account” or “Student loan.”  |Yes  |\n",
    "|Sub-product  |The type of sub-product the consumer identified in the complaint. For example, “Checking account” or “Private student loan.”  |Yes  |\n",
    "|Issue  |The issue the consumer identified in the complaint. For example, “Managing an account” or “Struggling to repay your loan.”  |Yes  |\n",
    "|Sub-issue  |The sub-issue the consumer identified in the complaint. For example, “Deposits and withdrawals” or “Problem lowering your monthly payments.”  |Yes  |\n",
    "|Consumer complaint narrative  |Consumer complaint narrative is the consumer-submitted description of “what happened” from the complaint. Consumers must opt-in to share their narrative. We will not publish the narrative unless the consumer consents, and consumers can opt-out at any time. The CFPB takes reasonable steps to scrub personal information from each complaint that could be used to identify the consumer.  |Maybe, if we can convert text to some vector form  |\n",
    "|Company public response  |The company’s optional, public-facing response to a consumer’s complaint. Companies can choose to select a response from a pre-set list of options that will be posted on the public database. For example, “Company believes complaint is the result of an isolated error.”  |Yes  |\n",
    "|Company  |The complaint is about this company. For example, “ABC Bank.”  |Yes  |\n",
    "|State  |The state of the mailing address provided by the consumer.  |Yes  |\n",
    "|ZIP code  |The mailing ZIP code provided by the consumer. This field may: i) include the first five digits of a ZIP code; ii) include the first three digits of a ZIP code (if the consumer consented to publication of their complaint narrative); or iii) be blank (if ZIP codes have been submitted with non-numeric values, if there are less than 20,000 people in a given ZIP code, or if the complaint has an address outside of the United States).  |Yes  |\n",
    "|Tags  |Data that supports easier searching and sorting of complaints submitted by or on behalf of consumers. For example, complaints where the submitter reports the age of the consumer as 62 years or older are tagged “Older American.” Complaints submitted by or on behalf of a servicemember or the spouse or dependent of a servicemember are tagged “Servicemember.” Servicemember includes anyone who is active duty, National Guard, or Reservist, as well as anyone who previously served and is a veteran or retiree.  |Yes  |\n",
    "|Consumer consent provided?  |Identifies whether the consumer opted in to publish their complaint narrative. We do not publish the narrative unless the consumer consents, and consumers can opt-out at any time.  |Yes  |\n",
    "|Submitted via  |How the complaint was submitted to the CFPB. For example, “Web” or “Phone.”  |Yes  |\n",
    "|Date sent to company  |The date the CFPB sent the complaint to the company.  |Not relevant  |\n",
    "|Company response to consumer  |This is how the company responded. For example, “Closed with explanation.”  |Yes  |\n",
    "|Timely response?  |Whether the company gave a timely response. For example, “Yes” or “No.”  |Yes  |\n",
    "|Consumer disputed?  |Whether the consumer disputed the company’s response.  |This the Target  |\n",
    "|Complaint ID  |The unique identification number for a complaint.  |Not a feature  |\n"
   ]
  },
  {
   "cell_type": "markdown",
   "id": "fae14d48-bb46-4b3d-85d8-af091784a220",
   "metadata": {},
   "source": [
    "To begin with, let us ignore the text contained in 'Consumer complaint narrative' and look at the rest of the features.  We can come back to this later."
   ]
  },
  {
   "cell_type": "code",
   "execution_count": null,
   "id": "cc13fb49-de51-457e-bb37-84e983adcea5",
   "metadata": {},
   "outputs": [],
   "source": [
    "X = complaints[[ 'Product', 'Sub-product', 'Issue', 'Sub-issue',\n",
    "        'Company public response', 'Company',\n",
    "       'State',  'Tags',\n",
    "       'Submitted via',  'Company response to consumer',\n",
    "       'Timely response?']]"
   ]
  },
  {
   "cell_type": "code",
   "execution_count": null,
   "id": "1ed5cd9f-790b-42d3-b845-13dbc0ea9435",
   "metadata": {},
   "outputs": [],
   "source": [
    "# Let us check if we have any missing values in our reduced dataset X\n",
    "\n",
    "print(len(X)) # Number of rows before dropna()\n",
    "print(len(X.dropna())) # Number of rows after dropna() "
   ]
  },
  {
   "cell_type": "markdown",
   "id": "dc2c63b0-17eb-4399-823b-44cb91dc6f16",
   "metadata": {},
   "source": [
    "If we were to drop `NaN` values, we would be left with very few rows.  That means we need to think harder about `NaN` values.  \n",
    "\n",
    "To do that, let us look at which columns are missing values.  "
   ]
  },
  {
   "cell_type": "code",
   "execution_count": null,
   "id": "af1ee498-ce07-4a26-99e3-1708a5c3b51b",
   "metadata": {},
   "outputs": [],
   "source": [
    "# Check how many values are missing in each column\n",
    "\n",
    "X.isna().sum()"
   ]
  },
  {
   "cell_type": "markdown",
   "id": "a9d4ad05-ec1c-4f98-9926-c09bede3bfc5",
   "metadata": {},
   "source": [
    "**Now the question is: how do we deal with these missing values?  Let us look at what each of these columns contain.  We will do a `unique()` on these columns to see which are the values contained in these columns.**  "
   ]
  },
  {
   "cell_type": "code",
   "execution_count": null,
   "id": "6c956acd-0207-4d60-b5d7-ea77197a6c26",
   "metadata": {},
   "outputs": [],
   "source": [
    "X['Sub-product'].unique()"
   ]
  },
  {
   "cell_type": "code",
   "execution_count": null,
   "id": "67f06c4f-ef0c-431a-919b-6a7bfba0595b",
   "metadata": {},
   "outputs": [],
   "source": [
    "X['Sub-issue'].unique()"
   ]
  },
  {
   "cell_type": "code",
   "execution_count": null,
   "id": "eef84322-6e37-4691-9834-97669fc25340",
   "metadata": {},
   "outputs": [],
   "source": [
    "X['State'].unique()"
   ]
  },
  {
   "cell_type": "code",
   "execution_count": null,
   "id": "79c654df-0114-41e7-ab74-179776dddece",
   "metadata": {},
   "outputs": [],
   "source": [
    "X['Company public response'].unique()"
   ]
  },
  {
   "cell_type": "code",
   "execution_count": null,
   "id": "fd399633-49d7-48bc-a249-9dd9ec8f4a5a",
   "metadata": {},
   "outputs": [],
   "source": [
    "X['Tags'].unique()"
   ]
  },
  {
   "cell_type": "markdown",
   "id": "4466cf4d-af0c-4247-8010-92cf815692e9",
   "metadata": {},
   "source": [
    "## Dealing with missing data  \n",
    "It is clear that all of these fields that have missing data are categorical, or string, and we cannot use any numerical imputation method to fill the missing values. \n",
    "\n",
    "What I would propose is to remove the NaNs by putting the text 'missing' in its place.  That would mean that all missing items would be treated as a category that we humans understand to be missing, but for the machine it is just another category called 'missing'.  \n",
    "\n",
    "Of course, you are welcome to try other approaches.  "
   ]
  },
  {
   "cell_type": "code",
   "execution_count": null,
   "id": "c0f331ca-2d52-4ae5-8d8e-33432ff1bc6f",
   "metadata": {},
   "outputs": [],
   "source": [
    "X = X.fillna('missing')\n",
    "X.dropna().shape"
   ]
  },
  {
   "cell_type": "markdown",
   "id": "f7a34476-e065-46a7-b201-e847d836cbf5",
   "metadata": {},
   "source": [
    "## Data prep\n",
    "We see that there are no cells that have NAs any more after our operations above.  So it is safe to proceed."
   ]
  },
  {
   "cell_type": "code",
   "execution_count": null,
   "id": "3e37ca12-fe13-425c-b120-7bcb973c619a",
   "metadata": {},
   "outputs": [],
   "source": [
    "# Next, we convert all the X observations into numbers\n",
    "\n",
    "X = pd.get_dummies(X)\n"
   ]
  },
  {
   "cell_type": "code",
   "execution_count": null,
   "id": "a2ced310-b471-45fa-b2f0-ca8cee25d575",
   "metadata": {},
   "outputs": [],
   "source": [
    "# Let us see what X looks like\n",
    "\n",
    "print('X has the shape ',X.shape)\n",
    "\n",
    "X"
   ]
  },
  {
   "cell_type": "markdown",
   "id": "853d544c-bb40-4cd4-8ad6-45707fa496f3",
   "metadata": {},
   "source": [
    "**Let us get our _y_ variable**  "
   ]
  },
  {
   "cell_type": "code",
   "execution_count": null,
   "id": "225636c3-6369-442b-a053-8aac6ed22e26",
   "metadata": {},
   "outputs": [],
   "source": [
    "y = complaints['Consumer disputed?']"
   ]
  },
  {
   "cell_type": "markdown",
   "id": "c30448f9-c6c6-46a8-955d-8b8f1eae2881",
   "metadata": {},
   "source": [
    "But y contains text, and we need to have 0s and 1s.  We can try to use LabelEncoder to do that"
   ]
  },
  {
   "cell_type": "code",
   "execution_count": null,
   "id": "71f4da79-da45-47d3-825a-f4955efdecac",
   "metadata": {},
   "outputs": [],
   "source": [
    "from sklearn import preprocessing\n",
    "le = preprocessing.LabelEncoder()\n",
    "y = le.fit_transform(complaints['Consumer disputed?'])\n",
    "print(le.classes_)\n",
    "print(le.inverse_transform(list(set(y))))\n",
    "labels = dict(zip(list(set(y)), le.inverse_transform(list(set(y)))))\n",
    "print(\"\\nLabel mapping is:\", labels)\n"
   ]
  },
  {
   "cell_type": "markdown",
   "id": "703e78ef-a9c7-4b24-967e-4fccca3e7344",
   "metadata": {},
   "source": [
    "## Train-test split  \n",
    "We have our `X` and `y` defined.  Now let us do the train-test split"
   ]
  },
  {
   "cell_type": "code",
   "execution_count": null,
   "id": "73f39982-7ce7-49d2-87e2-0fb123d5aab2",
   "metadata": {},
   "outputs": [],
   "source": [
    "from sklearn.model_selection import train_test_split\n",
    "X_train, X_test, y_train, y_test = train_test_split(X, y, test_size=0.2)"
   ]
  },
  {
   "cell_type": "markdown",
   "id": "8c117913-d6e7-4b33-a56a-f92e500419d7",
   "metadata": {},
   "source": [
    "Let us look at what our train and test sets look like."
   ]
  },
  {
   "cell_type": "code",
   "execution_count": null,
   "id": "cbd0d4b1-e2aa-49a9-b282-b838c728bb7c",
   "metadata": {},
   "outputs": [],
   "source": [
    "# We check the shape of our X and y \n",
    "\n",
    "print(X_train.shape)\n",
    "print(y_train.shape)\n",
    "print(X_test.shape)\n",
    "print(y_test.shape)"
   ]
  },
  {
   "cell_type": "markdown",
   "id": "e420d236-6acb-4ff7-ae3d-af5a244477b8",
   "metadata": {},
   "source": [
    "## Dealing with imbalanced data  \n",
    "Since we have an imbalanced dataset, we should try to do something to oversample the minority category, or undersample the majority.  \n",
    "\n",
    "We can do that using SMOTE.  To remind  yourself of what SMOTE is, refer to the slides from the Feature Engineering class.\n",
    "\n",
    "If you want to try SMOTE, uncomment the lines in the cell below and run them - know that it will take a while!\n",
    "\n",
    "### Oversampling with SMOTE"
   ]
  },
  {
   "cell_type": "code",
   "execution_count": null,
   "id": "4a66e9a6-8cd4-4150-977b-2795dde7366d",
   "metadata": {},
   "outputs": [],
   "source": [
    "# from imblearn.over_sampling import SMOTE \n",
    "# smote = SMOTE()\n",
    "# X_train, y_train = smote.fit_resample(X_train, y_train)"
   ]
  },
  {
   "cell_type": "markdown",
   "id": "a0bad2ae-1992-4213-9af8-b97271c8b8db",
   "metadata": {},
   "source": [
    "**Looks like SMOTE is computationally very heavy, and does not produce great results for our models.**  \n",
    "\n",
    "But because we have a lot of data, we can actually try undersampling too.  Interestingly, undersampling gives us better results in the modeling section later on.  \n",
    "\n",
    "### Random Undersampling"
   ]
  },
  {
   "cell_type": "code",
   "execution_count": null,
   "id": "b4b1bfec-3e48-4fa4-a6c3-0123ecc2432b",
   "metadata": {},
   "outputs": [],
   "source": [
    "from imblearn.under_sampling import RandomUnderSampler\n",
    "undersampler = RandomUnderSampler()\n",
    "X_train, y_train = undersampler.fit_resample(X_train, y_train)"
   ]
  },
  {
   "cell_type": "code",
   "execution_count": null,
   "id": "aa45c58e-553f-44a1-a081-13fdfc90b4ee",
   "metadata": {},
   "outputs": [],
   "source": [
    "# Let us check if the dataset is balanced\n",
    "# just checking that the '1' category is exactly 50% of the training set\n",
    "\n",
    "y_train.sum()/len(y_train) "
   ]
  },
  {
   "cell_type": "code",
   "execution_count": null,
   "id": "8438d4cb-13ef-48f2-b6a2-d3425f71342e",
   "metadata": {},
   "outputs": [],
   "source": [
    "X_train.shape"
   ]
  },
  {
   "cell_type": "code",
   "execution_count": null,
   "id": "570ec406-5a7a-48d7-a122-5b3b02b7e92f",
   "metadata": {},
   "outputs": [],
   "source": [
    "pd.DataFrame(y_train).value_counts()"
   ]
  },
  {
   "cell_type": "code",
   "execution_count": null,
   "id": "2246ec36-ed81-484a-99b7-dac02d71ef17",
   "metadata": {},
   "outputs": [],
   "source": [
    "print(X.shape)\n",
    "print(X_train.shape)\n",
    "print(X_test.shape)"
   ]
  },
  {
   "cell_type": "markdown",
   "id": "e29fbd35-92a2-4b85-97e9-40bb6a4d516b",
   "metadata": {},
   "source": [
    "**Now everything is set up, we have X_train, y_train, X_test, y_test and a perfectly balanced dataset.  We can now feed it to a model of our choice, and look at the results.**  \n",
    "\n",
    "## Fit a model using XGBoost"
   ]
  },
  {
   "cell_type": "code",
   "execution_count": null,
   "id": "12cac8b3-8501-47dc-b5c0-c98a603fb9fe",
   "metadata": {},
   "outputs": [],
   "source": [
    "# Fit the model\n",
    "from xgboost import XGBClassifier\n",
    "\n",
    "model_xgb = XGBClassifier(use_label_encoder=False, objective= 'binary:logistic')\n",
    "model_xgb.fit(X_train, y_train)"
   ]
  },
  {
   "cell_type": "code",
   "execution_count": null,
   "id": "b717e946-eb74-4769-95dd-a1789cd1d7e7",
   "metadata": {},
   "outputs": [],
   "source": [
    "# Perform predictions, and store the results in a variable called 'pred'\n",
    "pred = model_xgb.predict(X_test)"
   ]
  },
  {
   "cell_type": "code",
   "execution_count": null,
   "id": "921c95b8-6048-422d-bf78-9577fb593707",
   "metadata": {},
   "outputs": [],
   "source": [
    "# Check the classification report and the confusion matrix\n",
    "\n",
    "print(classification_report(y_true = y_test, y_pred = pred))\n",
    "\n",
    "cm = confusion_matrix(y_test, pred)\n",
    "ConfusionMatrixDisplay(confusion_matrix=cm).plot();"
   ]
  },
  {
   "cell_type": "markdown",
   "id": "4421bf74-69ab-4e08-b58f-dfed47c4283e",
   "metadata": {},
   "source": [
    "## Calculating Total Cost in Dollars    \n",
    "We know that the cost of a False Positive is \\\\$90, whereas the cost of a False Negative is \\\\$1500.  \n",
    "\n",
    "Let us calculate the total cost based on our confusion matrix.  The confusion matrix has the false positives and the false negatives in the cells outside the main diagonal.  "
   ]
  },
  {
   "cell_type": "code",
   "execution_count": null,
   "id": "0ccbacbc-5259-4d76-b011-df5259ffb233",
   "metadata": {},
   "outputs": [],
   "source": [
    "False_Positive_Cost = 90 * cm[0,1]\n",
    "False_Negative_Cost = 1500 * cm[1,0]"
   ]
  },
  {
   "cell_type": "code",
   "execution_count": null,
   "id": "01643337-5d07-4822-836a-3d8ff8541ad3",
   "metadata": {},
   "outputs": [],
   "source": [
    "Total_cost = False_Positive_Cost + False_Negative_Cost\n",
    "Total_cost"
   ]
  },
  {
   "attachments": {
    "b24e2295-efa6-4b35-af8f-8732cc579e88.png": {
     "image/png": "[encoded data removed]"
    },
    "b6391366-6399-44c1-b9b2-3ce2b72d0708.png": {
     "image/png": "[encoded data removed]"
    }
   },
   "cell_type": "markdown",
   "id": "dec6acaa-7135-4f26-8d8a-73bb04b7b062",
   "metadata": {},
   "source": [
    "## What should we do now?  \n",
    "\n",
    "We are able to obtain the probability for a complaint being a \"1\" (which means 'yes').  The default is generally 0.5, which means if the probability of something being a dispute is more than 0.5, we consider it as 'yes', and if the prob is <0.5, we consider it a 'no'.  But we can change this threshold because we are very interested in finding future disputes even if we end up with more false positives.  This means we can play with the 0.5 threshold.  \n",
    "\n",
    "On average, it costs the banks \\\\$100 to resolve, respond to and close a complaint that is not disputed .  On the other hand, it costs banks an extra \\\\$1500 to resolve a complaint if it has been disputed.  \n",
    "\n",
    "Our goal is to create and evaluate a predictive model that can help the banks identify future disputes so they can perform “extra diligence” during the first round of addressing the complaint with a view to avoiding eventual disputes.  If a complaint is picked up for “extra diligence”, it costs the bank an extra \\\\$90 to perform the additional diligence steps.  \n",
    "\n",
    "It is clear that the cost of extra diligence is very low (\\\\$90), but if a complaint reaches the dispute stage, the cost can get quite high (\\\\$1500).  So we would like to reduce false negatives from our predictive model, even if it means we push up false positives.  That is because the cost of false positives is quite low compared to the cost of false negatives.  \n",
    "\n",
    "This means we want high recall, and are okay with a lower precision.  \n",
    "\n",
    "\n",
    "![image.png](attachment:b6391366-6399-44c1-b9b2-3ce2b72d0708.png)    \n",
    "<img src = \"attachment:b6391366-6399-44c1-b9b2-3ce2b72d0708.png\" width = \"500\">  \n",
    "\n",
    "We can look at our options using the ROC curve, but the ROC curve uses False Positive and True Positive rates (not precision and recall).  Roughly, we want a high True Positive rate (that minimizes FNs) and are okay if the False Positive rate goes up.  \n",
    "\n",
    "Recall the formulae for TP and FP rates:  \n",
    "![image.png](attachment:b24e2295-efa6-4b35-af8f-8732cc579e88.png)\n",
    "\n",
    "**This means we can play around with the threshold that decides what is marked as 'yes'.  Feel free to reduce this threshold on the next cell, and see if it helps you get better recall for category 1 (that may reduce accuracy, but that is okay).**   \n",
    "## Adjusting the threshold  \n",
    "Let us lower the threshold to 0.4 and see what happens to our confusion matrix, and if we can lower our total cost.\n",
    "\n"
   ]
  },
  {
   "cell_type": "code",
   "execution_count": null,
   "id": "2d0f754b-e1e3-4f1c-8f80-444449b0ac8b",
   "metadata": {},
   "outputs": [],
   "source": [
    "# Set threshold for identifying class 1\n",
    "threshold = 0.4\n",
    "\n",
    "# Create predictions.  Note that predictions give us probabilities, not classes!\n",
    "pred_prob = model_xgb.predict_proba(X_test)\n",
    "\n",
    "# We drop the probabilities for class 0, and keep just the second column\n",
    "pred_prob = pred_prob[:,1]\n",
    "\n",
    "# Convert probabilities to 1s and 0s based on threshold\n",
    "pred = (pred_prob>threshold).astype(int)\n",
    "\n",
    "# confusion matrix\n",
    "cm = confusion_matrix(y_test, pred)\n",
    "print (\"Confusion Matrix : \\n\", cm)\n",
    "ConfusionMatrixDisplay(confusion_matrix=cm).plot();\n",
    "\n",
    "# accuracy score of the model\n",
    "print('Test accuracy = ', accuracy_score(y_test, pred))\n",
    "print(classification_report(y_true = y_test, y_pred = pred))"
   ]
  },
  {
   "cell_type": "markdown",
   "id": "9f8051a2-309d-422d-b4f9-7d23a5f50413",
   "metadata": {},
   "source": [
    "So we see that recall has gone up to 90% from a lower number earlier."
   ]
  },
  {
   "cell_type": "code",
   "execution_count": null,
   "id": "98e0ee12-9ba0-42fd-8efe-c1d4ad257909",
   "metadata": {},
   "outputs": [],
   "source": [
    "# See what predicted probabilities look like\n",
    "pred_prob"
   ]
  },
  {
   "cell_type": "code",
   "execution_count": null,
   "id": "51972f0e-8d2b-4ea2-ab15-ac0552e85629",
   "metadata": {},
   "outputs": [],
   "source": [
    "pred"
   ]
  },
  {
   "cell_type": "code",
   "execution_count": null,
   "id": "f211980e-f5ea-4dd9-ae3d-d47e7cb27576",
   "metadata": {},
   "outputs": [],
   "source": [
    "# pred_prob = pred_prob[:,1]"
   ]
  },
  {
   "cell_type": "markdown",
   "id": "dc7c555b-776a-46b8-8ed7-2be7da06914a",
   "metadata": {},
   "source": [
    "**Calculating Total Cost in Dollars**  \n",
    "We know that the cost of a False Positive is \\\\$90, whereas the cost of a False Negative is \\\\$1500.  \n",
    "\n",
    "Let us calculate the total cost based on our confusion matrix."
   ]
  },
  {
   "cell_type": "code",
   "execution_count": null,
   "id": "3786dcfc-0912-4c97-a084-b2c953edaf83",
   "metadata": {},
   "outputs": [],
   "source": [
    "False_Positive_Cost = 90 * cm[0,1]\n",
    "False_Negative_Cost = 1500 * cm[1,0]"
   ]
  },
  {
   "cell_type": "code",
   "execution_count": null,
   "id": "d1d39094-c4b0-4d7a-ab4c-f96a9c85b588",
   "metadata": {},
   "outputs": [],
   "source": [
    "Total_cost = False_Positive_Cost + False_Negative_Cost\n",
    "Total_cost"
   ]
  },
  {
   "cell_type": "markdown",
   "id": "b4787f83-5a69-4220-90e1-31d11b063d97",
   "metadata": {},
   "source": [
    "Now you can see how you can play around with the threshold and change your total cost.  In fact, you could create a loop to go through many possibiities of thresholds and find out the optimal threshold that leads to the minimum cost.  1m"
   ]
  },
  {
   "cell_type": "markdown",
   "id": "bd06ae2d-1dba-4182-a08d-47d6f4cc7875",
   "metadata": {},
   "source": [
    "## AUC and ROC calculation"
   ]
  },
  {
   "cell_type": "code",
   "execution_count": null,
   "id": "5b0e3ba1-6dbc-45d0-810f-6cab13f5e056",
   "metadata": {},
   "outputs": [],
   "source": [
    "# AUC calculation\n",
    "from sklearn import metrics\n",
    "metrics.roc_auc_score(y_test, pred_prob)"
   ]
  },
  {
   "cell_type": "code",
   "execution_count": null,
   "id": "d63da795-9103-45ec-8fd5-7bf75cf37326",
   "metadata": {},
   "outputs": [],
   "source": [
    "# Source for code below: https://stackoverflow.com/questions/25009284/how-to-plot-roc-curve-in-python\n",
    "fpr, tpr, thresholds = metrics.roc_curve(y_test, pred_prob)\n",
    "roc_auc = metrics.auc(fpr, tpr)\n",
    "plt.figure(figsize = (9,8))\n",
    "plt.title('Receiver Operating Characteristic')\n",
    "plt.plot(fpr, tpr, 'b', label = 'AUC = %0.2f' % roc_auc)\n",
    "plt.legend(loc = 'lower right')\n",
    "plt.plot([0, 1], [0, 1],'r--')\n",
    "plt.xlim([0, 1])\n",
    "plt.ylim([0, 1])\n",
    "plt.ylabel('True Positive Rate')\n",
    "plt.xlabel('False Positive Rate')\n",
    "plt.show()"
   ]
  },
  {
   "cell_type": "code",
   "execution_count": null,
   "id": "4102bf31-5f0e-446a-a5f7-9120ec4dfd31",
   "metadata": {},
   "outputs": [],
   "source": [
    "pd.DataFrame({'TPR': tpr, 'FPR': fpr, 'Threshold': thresholds}).sort_values(by = ['Threshold']).reset_index(drop=True)"
   ]
  },
  {
   "cell_type": "code",
   "execution_count": null,
   "id": "470c7720-4ec0-490a-95e7-f5c888b1a718",
   "metadata": {},
   "outputs": [],
   "source": [
    "# Save to Excel, just easier to see there.  No need to do this if you don't want to.\n",
    "pd.DataFrame({'TPR': tpr, 'FPR': fpr, 'Threshold': thresholds}).sort_values(by = ['Threshold']).reset_index(drop=True).to_excel('temp.xlsx')"
   ]
  },
  {
   "cell_type": "markdown",
   "id": "ffa7e6ec-cff0-44df-9855-b00f88d3b3e3",
   "metadata": {},
   "source": [
    "## What else?\n",
    "\n",
    "At this point, we can experiment with the threshold to determine the lowest cost.  We will find it is related to our precision and recall calculations.  Hopefully, we can make an actionable recommendation to the Big Banks Board, and they will hire us for the job!"
   ]
  },
  {
   "cell_type": "code",
   "execution_count": null,
   "id": "9965f00e-f718-48fd-953a-442058b1a5f3",
   "metadata": {},
   "outputs": [],
   "source": []
  },
  {
   "cell_type": "markdown",
   "id": "cd9e026f-17d2-4859-aa29-da19ddcd518f",
   "metadata": {},
   "source": [
    "## Try a different model?\n",
    "\n",
    "We only tried XGBoost, but we can try any other model that we learned.  We can also try to build a neural network for the prediction of customer disputes.  Maybe those give us better results.\n",
    "\n",
    "Below we try logistic regression."
   ]
  },
  {
   "cell_type": "code",
   "execution_count": null,
   "id": "efc411cd-072a-4a77-9464-c8f9a297b145",
   "metadata": {},
   "outputs": [],
   "source": [
    "model = sm.Logit(y_train, X_train).fit(method='bfgs')\n",
    "model.summary()"
   ]
  },
  {
   "cell_type": "markdown",
   "id": "6ddb3dd1-6b98-4441-a9fe-48eb5ec2eb91",
   "metadata": {},
   "source": [
    "### Predict test set and evaluate  \n",
    "\n",
    "**You can play with the threshold to get the right True Positive rate you desire!  The default generally is 0.50 but you can change it to lower values - eg, 0.2**   "
   ]
  },
  {
   "cell_type": "code",
   "execution_count": null,
   "id": "9fe19257-573f-44dc-bf7e-c4b3605de3df",
   "metadata": {},
   "outputs": [],
   "source": [
    "\n",
    "# Set threshold for identifying class 1\n",
    "threshold = 0.20"
   ]
  },
  {
   "cell_type": "code",
   "execution_count": null,
   "id": "6234f952-e37a-4701-86bb-9bc1ec9b6454",
   "metadata": {},
   "outputs": [],
   "source": [
    "# Create predictions.  Note that predictions give us probabilities, not classes!\n",
    "pred_prob = model.predict(X_test)\n",
    "\n",
    "# Convert probabilities to 1s and 0s based on threshold\n",
    "pred = (pred_prob>threshold).astype(int)\n",
    " \n",
    "# confusion matrix\n",
    "cm = confusion_matrix(y_test, pred)\n",
    "print (\"Confusion Matrix : \\n\", cm)\n",
    " \n",
    "# accuracy score of the model\n",
    "print('Test accuracy = ', accuracy_score(y_test, pred))"
   ]
  },
  {
   "cell_type": "code",
   "execution_count": null,
   "id": "0f6c7f4a-56ba-4635-8b75-4ca64fe1e22c",
   "metadata": {},
   "outputs": [],
   "source": [
    "cm = confusion_matrix(y_test, pred)\n",
    "pd.DataFrame(cm, columns=['Predicted 0', 'Predicted 1'], index = ['Actual 0', 'Actual 1'])"
   ]
  },
  {
   "cell_type": "code",
   "execution_count": null,
   "id": "e4cf6fea-e8ed-4182-a9e0-bdd74eba0c06",
   "metadata": {},
   "outputs": [],
   "source": [
    "print(classification_report(y_true = y_test, y_pred = pred))"
   ]
  },
  {
   "cell_type": "code",
   "execution_count": null,
   "id": "b6ec7b80-994d-4d30-ac15-dd70059029b0",
   "metadata": {},
   "outputs": [],
   "source": [
    "# See what predicted probabilities look like\n",
    "pred_prob"
   ]
  },
  {
   "cell_type": "code",
   "execution_count": null,
   "id": "7a229cf9-a2fd-4adb-b911-52d5fc6b9dea",
   "metadata": {},
   "outputs": [],
   "source": [
    "# A histogram of probabilities.  Why not?\n",
    "pred_prob.hist(bins=40)"
   ]
  },
  {
   "cell_type": "markdown",
   "id": "ca9d1e6a-a18d-4dea-bbf0-eaf956200ae4",
   "metadata": {},
   "source": [
    "### AUC and ROC calculation"
   ]
  },
  {
   "cell_type": "code",
   "execution_count": null,
   "id": "bd845a2c-df47-4a2c-aefb-70ff0038613e",
   "metadata": {},
   "outputs": [],
   "source": [
    "# AUC calculation\n",
    "metrics.roc_auc_score(y_test, pred_prob)"
   ]
  },
  {
   "cell_type": "code",
   "execution_count": null,
   "id": "737de9f1-87c3-4aec-b502-0c59e183736a",
   "metadata": {},
   "outputs": [],
   "source": [
    "# Source for code below: https://stackoverflow.com/questions/25009284/how-to-plot-roc-curve-in-python\n",
    "fpr, tpr, thresholds = metrics.roc_curve(y_test, pred_prob)\n",
    "roc_auc = metrics.auc(fpr, tpr)\n",
    "plt.figure(figsize = (9,8))\n",
    "plt.title('Receiver Operating Characteristic')\n",
    "plt.plot(fpr, tpr, 'b', label = 'AUC = %0.2f' % roc_auc)\n",
    "plt.legend(loc = 'lower right')\n",
    "plt.plot([0, 1], [0, 1],'r--')\n",
    "plt.xlim([0, 1])\n",
    "plt.ylim([0, 1])\n",
    "plt.ylabel('True Positive Rate')\n",
    "plt.xlabel('False Positive Rate')\n",
    "plt.show()"
   ]
  },
  {
   "cell_type": "code",
   "execution_count": null,
   "id": "b86d9be3-db6b-475b-8382-3809ded3e3db",
   "metadata": {},
   "outputs": [],
   "source": []
  }
 ],
 "metadata": {
  "kernelspec": {
   "display_name": "Python [conda env:mggy8413]",
   "language": "python",
   "name": "conda-env-mggy8413-py"
  },
  "language_info": {
   "codemirror_mode": {
    "name": "ipython",
    "version": 3
   },
   "file_extension": ".py",
   "mimetype": "text/x-python",
   "name": "python",
   "nbconvert_exporter": "python",
   "pygments_lexer": "ipython3",
   "version": "3.10.2"
  }
 },
 "nbformat": 4,
 "nbformat_minor": 5
}
